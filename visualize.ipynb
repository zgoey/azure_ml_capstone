{
 "cells": [
  {
   "cell_type": "code",
   "execution_count": 13,
   "metadata": {},
   "outputs": [
    {
     "data": {
      "application/vnd.jupyter.widget-view+json": {
       "model_id": "ce59cb385a304a4396560c667b51ea9b",
       "version_major": 2,
       "version_minor": 0
      },
      "text/plain": [
       "Output()"
      ]
     },
     "metadata": {},
     "output_type": "display_data"
    }
   ],
   "source": [
    "import k3d\n",
    "import numpy as np\n",
    "import pandas\n",
    "from matplotlib import colors as mcolors\n",
    "\n",
    "\n",
    "fpath = 'color_shades.csv'\n",
    "df  = pandas.read_csv(fpath)\n",
    "shades = list(set(df['Shade']))\n",
    "shades.sort()\n",
    "# https://stackoverflow.com/a/37232760\n",
    "color_dict = dict(mcolors.BASE_COLORS, **mcolors.CSS4_COLORS)\n",
    "\n",
    "\n",
    "pts = df[['Red','Green','Blue']].to_numpy()\n",
    "colors = np.array([int(color_dict[d.lower()][1:], 16) for d in df['Shade']], dtype='uint32')\n",
    "\n",
    "plot = k3d.plot(axes= ['Red', 'Green', 'Blue'])\n",
    "points = k3d.points(pts.astype(np.float32), colors, point_size=3.0, shader='3d')\n",
    "plot += points\n",
    "plot.display()"
   ]
  },
  {
   "cell_type": "code",
   "execution_count": 17,
   "metadata": {},
   "outputs": [
    {
     "data": {
      "application/vnd.jupyter.widget-view+json": {
       "model_id": "b385b2bbb74d446fb291659557db71aa",
       "version_major": 2,
       "version_minor": 0
      },
      "text/plain": [
       "Output()"
      ]
     },
     "metadata": {},
     "output_type": "display_data"
    }
   ],
   "source": [
    "#https://stackoverflow.com/a/59549285\n",
    "\n",
    "# Convert from sRGB color spave to LAB color space\n",
    "# https://stackoverflow.com/questions/13405956/convert-an-image-rgb-lab-with-python\n",
    "from skimage import color\n",
    "lab_pts = color.rgb2lab(pts.astype(np.uint8)).astype(np.float32)\n",
    "\n",
    "plot_lab = k3d.plot(axes= ['L', 'a', 'b'])\n",
    "points_lab = k3d.points(lab_pts.astype(np.float32), colors, point_size=3.0, shader='3d')\n",
    "plot_lab += points_lab\n",
    "plot_lab.display()"
   ]
  },
  {
   "cell_type": "code",
   "execution_count": null,
   "metadata": {},
   "outputs": [],
   "source": []
  },
  {
   "cell_type": "code",
   "execution_count": null,
   "metadata": {},
   "outputs": [],
   "source": []
  }
 ],
 "metadata": {
  "kernelspec": {
   "display_name": "Python 3",
   "language": "python",
   "name": "python3"
  },
  "language_info": {
   "codemirror_mode": {
    "name": "ipython",
    "version": 3
   },
   "file_extension": ".py",
   "mimetype": "text/x-python",
   "name": "python",
   "nbconvert_exporter": "python",
   "pygments_lexer": "ipython3",
   "version": "3.6.3"
  }
 },
 "nbformat": 4,
 "nbformat_minor": 4
}
